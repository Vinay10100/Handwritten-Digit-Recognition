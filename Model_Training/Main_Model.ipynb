{
 "cells": [
  {
   "cell_type": "code",
   "execution_count": 11,
   "id": "4e284455",
   "metadata": {},
   "outputs": [],
   "source": [
    "import numpy as np\n",
    "import matplotlib.pyplot as plt\n",
    "from keras.datasets import mnist\n",
    "from keras.models import Sequential\n",
    "from keras.layers import Conv2D, MaxPooling2D, Flatten, Dense\n",
    "from keras.utils import to_categorical\n",
    "import cv2"
   ]
  },
  {
   "cell_type": "code",
   "execution_count": 12,
   "id": "e9ea3c1b",
   "metadata": {},
   "outputs": [
    {
     "name": "stdout",
     "output_type": "stream",
     "text": [
      "Epoch 1/10\n",
      "469/469 [==============================] - 17s 35ms/step - loss: 0.2129 - accuracy: 0.9382 - val_loss: 0.0598 - val_accuracy: 0.9816\n",
      "Epoch 2/10\n",
      "469/469 [==============================] - 18s 37ms/step - loss: 0.0588 - accuracy: 0.9822 - val_loss: 0.0417 - val_accuracy: 0.9870\n",
      "Epoch 3/10\n",
      "469/469 [==============================] - 18s 38ms/step - loss: 0.0433 - accuracy: 0.9866 - val_loss: 0.0408 - val_accuracy: 0.9866\n",
      "Epoch 4/10\n",
      "469/469 [==============================] - 18s 39ms/step - loss: 0.0315 - accuracy: 0.9901 - val_loss: 0.0360 - val_accuracy: 0.9873\n",
      "Epoch 5/10\n",
      "469/469 [==============================] - 18s 38ms/step - loss: 0.0239 - accuracy: 0.9926 - val_loss: 0.0309 - val_accuracy: 0.9889\n",
      "Epoch 6/10\n",
      "469/469 [==============================] - 18s 37ms/step - loss: 0.0193 - accuracy: 0.9938 - val_loss: 0.0390 - val_accuracy: 0.9875\n",
      "Epoch 7/10\n",
      "469/469 [==============================] - 18s 37ms/step - loss: 0.0150 - accuracy: 0.9951 - val_loss: 0.0281 - val_accuracy: 0.9909\n",
      "Epoch 8/10\n",
      "469/469 [==============================] - 18s 38ms/step - loss: 0.0118 - accuracy: 0.9963 - val_loss: 0.0280 - val_accuracy: 0.9920\n",
      "Epoch 9/10\n",
      "469/469 [==============================] - 18s 38ms/step - loss: 0.0097 - accuracy: 0.9967 - val_loss: 0.0335 - val_accuracy: 0.9883\n",
      "Epoch 10/10\n",
      "469/469 [==============================] - 18s 38ms/step - loss: 0.0090 - accuracy: 0.9973 - val_loss: 0.0393 - val_accuracy: 0.9877\n",
      "313/313 [==============================] - 1s 4ms/step - loss: 0.0393 - accuracy: 0.9877\n",
      "Accuracy: 98.77%\n"
     ]
    }
   ],
   "source": [
    "# Load and preprocess the MNIST dataset\n",
    "(x_train, y_train), (x_test, y_test) = mnist.load_data()\n",
    "x_train = np.expand_dims(x_train, axis=-1)\n",
    "x_test = np.expand_dims(x_test, axis=-1)\n",
    "x_train = x_train.astype('float32') / 255.0\n",
    "x_test = x_test.astype('float32') / 255.0\n",
    "y_train = to_categorical(y_train, num_classes=10)\n",
    "y_test = to_categorical(y_test, num_classes=10)\n",
    "\n",
    "# Build the CNN model\n",
    "model = Sequential()\n",
    "model.add(Conv2D(32, (3, 3), activation='relu', input_shape=(28, 28, 1)))\n",
    "model.add(MaxPooling2D((2, 2)))\n",
    "model.add(Conv2D(64, (3, 3), activation='relu'))\n",
    "model.add(MaxPooling2D((2, 2)))\n",
    "model.add(Flatten())\n",
    "model.add(Dense(128, activation='relu'))\n",
    "model.add(Dense(10, activation='softmax'))\n",
    "\n",
    "# Compile the model\n",
    "model.compile(optimizer='adam', loss='categorical_crossentropy', metrics=['accuracy'])\n",
    "\n",
    "# Train the model\n",
    "model.fit(x_train, y_train, batch_size=128, epochs=10, validation_data=(x_test, y_test))\n",
    "\n",
    "# Evaluate the model\n",
    "_, accuracy = model.evaluate(x_test, y_test)\n",
    "print('Accuracy: {:.2f}%'.format(accuracy * 100))"
   ]
  },
  {
   "cell_type": "code",
   "execution_count": 13,
   "id": "d008a75d",
   "metadata": {},
   "outputs": [],
   "source": [
    "model.save('mnist_model.h5')    # we will save our model with name : mnist.h5"
   ]
  }
 ],
 "metadata": {
  "kernelspec": {
   "display_name": "Python 3 (ipykernel)",
   "language": "python",
   "name": "python3"
  },
  "language_info": {
   "codemirror_mode": {
    "name": "ipython",
    "version": 3
   },
   "file_extension": ".py",
   "mimetype": "text/x-python",
   "name": "python",
   "nbconvert_exporter": "python",
   "pygments_lexer": "ipython3",
   "version": "3.9.12"
  }
 },
 "nbformat": 4,
 "nbformat_minor": 5
}
